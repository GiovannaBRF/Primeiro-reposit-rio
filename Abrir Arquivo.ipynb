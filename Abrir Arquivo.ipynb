{
 "cells": [
  {
   "cell_type": "code",
   "execution_count": 49,
   "id": "6621d1bb",
   "metadata": {},
   "outputs": [],
   "source": [
    "# pip install pyautogui"
   ]
  },
  {
   "cell_type": "code",
   "execution_count": 50,
   "id": "c7a56262",
   "metadata": {},
   "outputs": [],
   "source": [
    "#import pyautogui"
   ]
  },
  {
   "cell_type": "code",
   "execution_count": 51,
   "id": "28a5f820",
   "metadata": {},
   "outputs": [],
   "source": [
    "# pyautogui.position()"
   ]
  },
  {
   "cell_type": "code",
   "execution_count": 52,
   "id": "0bae34a6",
   "metadata": {},
   "outputs": [],
   "source": [
    "#clique pra minimizar telas\n",
    "pyautogui.click(1362, 738)"
   ]
  },
  {
   "cell_type": "code",
   "execution_count": 53,
   "id": "2b232e10",
   "metadata": {},
   "outputs": [],
   "source": [
    "# visualizar movimento do mouse\n",
    "pyautogui.moveTo(46 ,655, duration=1)\n",
    "pyautogui.doubleClick()"
   ]
  },
  {
   "cell_type": "code",
   "execution_count": null,
   "id": "b93014da",
   "metadata": {},
   "outputs": [],
   "source": [
    "# Vai direto no arquivo e ja clica 2x\n",
    "#pyautogui.doubleClick(46 ,655)"
   ]
  }
 ],
 "metadata": {
  "kernelspec": {
   "display_name": "Python 3 (ipykernel)",
   "language": "python",
   "name": "python3"
  },
  "language_info": {
   "codemirror_mode": {
    "name": "ipython",
    "version": 3
   },
   "file_extension": ".py",
   "mimetype": "text/x-python",
   "name": "python",
   "nbconvert_exporter": "python",
   "pygments_lexer": "ipython3",
   "version": "3.9.13"
  }
 },
 "nbformat": 4,
 "nbformat_minor": 5
}
