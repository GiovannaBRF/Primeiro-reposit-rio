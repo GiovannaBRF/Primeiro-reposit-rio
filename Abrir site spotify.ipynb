{
 "cells": [
  {
   "cell_type": "code",
   "execution_count": 65,
   "id": "233ce699",
   "metadata": {},
   "outputs": [],
   "source": [
    "#pip install pandas\n"
   ]
  },
  {
   "cell_type": "code",
   "execution_count": 66,
   "id": "9ee470c9",
   "metadata": {},
   "outputs": [],
   "source": [
    "# pip install pyautogui pyperclip"
   ]
  },
  {
   "cell_type": "code",
   "execution_count": 67,
   "id": "6f236963",
   "metadata": {},
   "outputs": [],
   "source": [
    "#import pyautogui\n",
    "#import pandas as pd\n",
    "#import time\n",
    "#import pyperclip"
   ]
  },
  {
   "cell_type": "code",
   "execution_count": 68,
   "id": "852daacb",
   "metadata": {},
   "outputs": [],
   "source": [
    "# recurso para dar intervalos entre um comando e oputro\n",
    "pyautogui.PAUSE=2"
   ]
  },
  {
   "cell_type": "code",
   "execution_count": 69,
   "id": "a7acf34a",
   "metadata": {},
   "outputs": [],
   "source": [
    "# capturar posição do mouse\n",
    "#pyautogui.position()"
   ]
  },
  {
   "cell_type": "code",
   "execution_count": 70,
   "id": "aaacf125",
   "metadata": {},
   "outputs": [],
   "source": [
    "#clique pra minimizar telas\n",
    "pyautogui.click(1362, 738)\n",
    "\n",
    "#abrir navegador chrome\n",
    "pyautogui.click(563, 748)\n",
    "time.sleep(4)\n",
    "\n",
    "#barra de pesquisa url\n",
    "pyautogui.click(388, 50)\n",
    "\n",
    "spotify = \"https://open.spotify.com/\"\n",
    "pyperclip.copy(spotify)\n",
    "pyautogui.hotkey('ctrl','v')\n",
    "time.sleep(2)\n",
    "pyautogui.press('enter')\n",
    "time.sleep(15)\n",
    "\n",
    "#tocar musica da play list\n",
    "pyautogui.click(575, 220)\n"
   ]
  },
  {
   "cell_type": "code",
   "execution_count": 71,
   "id": "944c07f6",
   "metadata": {},
   "outputs": [],
   "source": [
    "# abrir aba nova no navegador\n",
    "#pyautogui.hotkey('crtl', 't')"
   ]
  },
  {
   "cell_type": "code",
   "execution_count": null,
   "id": "cac0291a",
   "metadata": {},
   "outputs": [],
   "source": []
  }
 ],
 "metadata": {
  "kernelspec": {
   "display_name": "Python 3 (ipykernel)",
   "language": "python",
   "name": "python3"
  },
  "language_info": {
   "codemirror_mode": {
    "name": "ipython",
    "version": 3
   },
   "file_extension": ".py",
   "mimetype": "text/x-python",
   "name": "python",
   "nbconvert_exporter": "python",
   "pygments_lexer": "ipython3",
   "version": "3.9.13"
  }
 },
 "nbformat": 4,
 "nbformat_minor": 5
}
